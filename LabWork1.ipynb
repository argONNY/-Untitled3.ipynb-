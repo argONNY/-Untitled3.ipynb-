{
  "nbformat": 4,
  "nbformat_minor": 0,
  "metadata": {
    "colab": {
      "provenance": [],
      "authorship_tag": "ABX9TyMv6XehirYGkvMPgc2gGhO8",
      "include_colab_link": true
    },
    "kernelspec": {
      "name": "python3",
      "display_name": "Python 3"
    },
    "language_info": {
      "name": "python"
    }
  },
  "cells": [
    {
      "cell_type": "markdown",
      "metadata": {
        "id": "view-in-github",
        "colab_type": "text"
      },
      "source": [
        "<a href=\"https://colab.research.google.com/github/argONNY/-Untitled3.ipynb-/blob/main/LabWork1.ipynb\" target=\"_parent\"><img src=\"https://colab.research.google.com/assets/colab-badge.svg\" alt=\"Open In Colab\"/></a>"
      ]
    },
    {
      "cell_type": "code",
      "execution_count": 117,
      "metadata": {
        "colab": {
          "base_uri": "https://localhost:8080/"
        },
        "id": "96wUAWogtWGS",
        "outputId": "39ba0eca-3cbc-42df-e7e4-8366fd0b47a2"
      },
      "outputs": [
        {
          "output_type": "stream",
          "name": "stdout",
          "text": [
            "Группа ЗФИ-202: средний балл = 4.40\n",
            "Группа ЗПИ-101: средний балл = 4.00\n",
            "Группа ЗФИ-121: средний балл = 4.60\n",
            "Группа ЗФИ-222: средний балл = 4.40\n",
            "Группа ЗПИ-111: средний балл = 5.00\n",
            "Группа ЗПИ-202: средний балл = 3.60\n"
          ]
        }
      ],
      "source": [
        "class Student:\n",
        "    def __init__(self, name, group, grades):\n",
        "        self.name = name\n",
        "        self.group = group\n",
        "        self.grades = list(map(float, grades))\n",
        "\n",
        "    def average_grade(self):\n",
        "        return sum(self.grades) / len(self.grades)\n",
        "\n",
        "    def is_excellent(self):\n",
        "        return self.average_grade() >= 4.5\n",
        "\n",
        "students = []\n",
        "with open(\"students.txt\", \"r\", encoding=\"utf-8\") as f:\n",
        "    for line in f:\n",
        "        name, group, grades_str = line.strip().split(\";\")\n",
        "        grades = grades_str.split(\",\")\n",
        "        students.append(Student(name, group, grades))\n",
        "\n",
        "with open(\"excellent_students.txt\", \"w\", encoding=\"utf-8\") as f:\n",
        "    for s in students:\n",
        "        if s.is_excellent():\n",
        "            f.write(f\"{s.name} - {s.group}\\n\")\n",
        "\n",
        "from collections import defaultdict\n",
        "group_grades = defaultdict(list)\n",
        "\n",
        "for s in students:\n",
        "    group_grades[s.group].append(s.average_grade())\n",
        "\n",
        "for group, avgs in group_grades.items():\n",
        "    print(f\"Группа {group}: средний балл = {sum(avgs)/len(avgs):.2f}\")\n"
      ]
    },
    {
      "cell_type": "code",
      "source": [
        "import re\n",
        "\n",
        "\n",
        "def analyze_logs(log_text):\n",
        "    results = {}\n",
        "\n",
        "    # 1. Поиск IPv4 адресов\n",
        "    ip_pattern = r'\\b(?:\\d{1,3}\\.){3}\\d{1,3}\\b'\n",
        "    ip_addresses = re.findall(ip_pattern, log_text)\n",
        "    results['ip_addresses'] = ip_addresses\n",
        "\n",
        "    # 2. Поиск временных меток\n",
        "    timestamp_pattern = r'\\b\\d{4}-\\d{2}-\\d{2} \\d{2}:\\d{2}:\\d{2}\\b'\n",
        "    timestamps = re.findall(timestamp_pattern, log_text)\n",
        "    results['timestamps'] = timestamps\n",
        "\n",
        "    # 3. Поиск слов в UPPERCASE\n",
        "    uppercase_pattern = r'\\b[A-ZА-Я]{2,}\\b'\n",
        "    uppercase_words = re.findall(uppercase_pattern, log_text)\n",
        "    results['uppercase_words'] = uppercase_words\n",
        "\n",
        "    # 4. Замена email-адресов\n",
        "    email_pattern = r'\\b[A-Za-z0-9._%+-]+@[A-Za-z0-9.-]+\\.[A-Z|a-z]{2,}\\b'\n",
        "    protected_log = re.sub(email_pattern, '[EMAIL PROTECTED]', log_text)\n",
        "    results['protected_log'] = protected_log\n",
        "\n",
        "    return results\n",
        "\n",
        "\n",
        "\n",
        "log_text = \"\"\"\n",
        "2025-10-12 14:30:25 Сервер запущен. IP: 192.168.1.1\n",
        "2025-10-12 14:35:40 Пользователь ADMIN вошел в систему с IP 10.0.0.45\n",
        "2025-10-12 14:40:15 ОШИБКА: Соединение с 8.8.8.8 прервано\n",
        "2025-10-12 14:45:30 Отправлено письмо на email: user@example.com\n",
        "2025-10-12 14:50:00 Получено письмо от admin@server.com\n",
        "2025-10-12 14:55:45 КРИТИЧЕСКАЯ ОШИБКА в модуле SECURITY\n",
        "2025-10-12 15:00:10 DNS запрос к 1.1.1.1 неуспешен\n",
        "2025-10-12 15:05:25 Пользователь TESTUSER вышел из системы\n",
        "2025-10-12 15:10:40 Резервное копирование завершено УСПЕШНО\n",
        "\"\"\"\n",
        "results = analyze_logs(log_text)\n",
        "\n",
        "print(\"\\n1. Найденные IPv4 адреса:\")\n",
        "for ip in results['ip_addresses']:\n",
        "        print(f\"   - {ip}\")\n",
        "\n",
        "print(\"\\n2. Найденные временные метки:\")\n",
        "for timestamp in results['timestamps']:\n",
        "        print(f\"   - {timestamp}\")\n",
        "\n",
        "print(\"\\n3. Найденные UPPERCASE\")\n",
        "for word in results['uppercase_words']:\n",
        "        print(f\"   - {word}\")\n",
        "\n",
        "print(\"\\n4. Лог с защищенными email-адресами:\")\n",
        "print(results['protected_log'])"
      ],
      "metadata": {
        "colab": {
          "base_uri": "https://localhost:8080/"
        },
        "id": "gBQDQML5tuUF",
        "outputId": "793423ca-7f99-4ab3-f398-f308dac9d6f2"
      },
      "execution_count": 118,
      "outputs": [
        {
          "output_type": "stream",
          "name": "stdout",
          "text": [
            "\n",
            "1. Найденные IPv4 адреса:\n",
            "   - 192.168.1.1\n",
            "   - 10.0.0.45\n",
            "   - 8.8.8.8\n",
            "   - 1.1.1.1\n",
            "\n",
            "2. Найденные временные метки:\n",
            "   - 2025-10-12 14:30:25\n",
            "   - 2025-10-12 14:35:40\n",
            "   - 2025-10-12 14:40:15\n",
            "   - 2025-10-12 14:45:30\n",
            "   - 2025-10-12 14:50:00\n",
            "   - 2025-10-12 14:55:45\n",
            "   - 2025-10-12 15:00:10\n",
            "   - 2025-10-12 15:05:25\n",
            "   - 2025-10-12 15:10:40\n",
            "\n",
            "3. Найденные UPPERCASE\n",
            "   - IP\n",
            "   - ADMIN\n",
            "   - IP\n",
            "   - ОШИБКА\n",
            "   - КРИТИЧЕСКАЯ\n",
            "   - ОШИБКА\n",
            "   - SECURITY\n",
            "   - DNS\n",
            "   - TESTUSER\n",
            "   - УСПЕШНО\n",
            "\n",
            "4. Лог с защищенными email-адресами:\n",
            "\n",
            "2025-10-12 14:30:25 Сервер запущен. IP: 192.168.1.1\n",
            "2025-10-12 14:35:40 Пользователь ADMIN вошел в систему с IP 10.0.0.45\n",
            "2025-10-12 14:40:15 ОШИБКА: Соединение с 8.8.8.8 прервано\n",
            "2025-10-12 14:45:30 Отправлено письмо на email: [EMAIL PROTECTED]\n",
            "2025-10-12 14:50:00 Получено письмо от [EMAIL PROTECTED]\n",
            "2025-10-12 14:55:45 КРИТИЧЕСКАЯ ОШИБКА в модуле SECURITY\n",
            "2025-10-12 15:00:10 DNS запрос к 1.1.1.1 неуспешен\n",
            "2025-10-12 15:05:25 Пользователь TESTUSER вышел из системы\n",
            "2025-10-12 15:10:40 Резервное копирование завершено УСПЕШНО\n",
            "\n"
          ]
        }
      ]
    },
    {
      "cell_type": "code",
      "source": [
        "import pandas as pd\n",
        "import matplotlib.pyplot as plt\n",
        "\n",
        "def pandas_sales_processing(data):\n",
        "    df = pd.DataFrame(data)\n",
        "    median_price = df['Цена'].median()\n",
        "    df['Цена'] = df['Цена'].fillna(median_price)\n",
        "    df = df[(df['Количество'] >= 1) & (df['Количество'] <= 1000)]\n",
        "    df['Общая_стоимость'] = df['Цена'] * df['Количество']\n",
        "    grouped = df.groupby('Товар')['Общая_стоимость'].sum()\n",
        "\n",
        "    grouped.plot(kind='bar',\n",
        "                 title='Суммарная выручка по товарам',\n",
        "                 color='purple',\n",
        "                 edgecolor='darkviolet',\n",
        "                 alpha=0.7)\n",
        "\n",
        "    plt.ylabel('Выручка')\n",
        "    plt.xlabel('Товар')\n",
        "    plt.xticks(rotation=45)\n",
        "    plt.grid(axis='y', alpha=0.3)\n",
        "    plt.tight_layout()\n",
        "    plt.show()\n",
        "    return df\n",
        "\n",
        "data = {\n",
        "    'Товар': ['Клубника', 'Малина', 'Клубника', 'Малина', 'Черника', 'Ежевика'],\n",
        "    'Цена': [100, 80, None, 85, 120, 200],\n",
        "    'Количество': [50, 100, 30, 0, 80, 1500]\n",
        "}\n",
        "\n",
        "result_df = pandas_sales_processing(data)\n",
        "print(\"Обработанные данные:\")\n",
        "print(result_df)"
      ],
      "metadata": {
        "colab": {
          "base_uri": "https://localhost:8080/",
          "height": 591
        },
        "id": "I0Uy6glSvT2d",
        "outputId": "8baf81e8-f82c-4417-98d9-afbb0e4385e5"
      },
      "execution_count": 119,
      "outputs": [
        {
          "output_type": "display_data",
          "data": {
            "text/plain": [
              "<Figure size 640x480 with 1 Axes>"
            ],
            "image/png": "[encoded data removed]"
          },
          "metadata": {}
        },
        {
          "output_type": "stream",
          "name": "stdout",
          "text": [
            "Обработанные данные:\n",
            "      Товар   Цена  Количество  Общая_стоимость\n",
            "0  Клубника  100.0          50           5000.0\n",
            "1    Малина   80.0         100           8000.0\n",
            "2  Клубника  100.0          30           3000.0\n",
            "4   Черника  120.0          80           9600.0\n"
          ]
        }
      ]
    },
    {
      "cell_type": "code",
      "source": [
        "import numpy as np\n",
        "A = np.random.randint(1, 11, size=(5, 5))\n",
        "B = np.random.randint(1, 11, size=(5, 5))\n",
        "print(\"Матрица A (5x5):\")\n",
        "print(A)\n",
        "print(\"\\nМатрица B (5x5):\")\n",
        "print(B)\n",
        "el_multiplication = A * B\n",
        "print(\"\\nПоэлементное произведение матриц:\")\n",
        "print(el_multiplication)\n",
        "mat_multiplication = np.dot(A, B)\n",
        "print(\"\\nМатричное произведение:\")\n",
        "print(mat_multiplication)\n",
        "det_A = np.linalg.det(A)\n",
        "print(f\"\\nОпределитель матрицы A: {det_A:.2f}\")\n",
        "A_invert = np.linalg.inv(A)\n",
        "print(\"\\nОбратная матрица A⁻¹:\")\n",
        "print(A_invert)\n",
        "C = A.sum(axis=1).reshape(-1, 1)\n",
        "\n",
        "print(\"\\nВектор C (суммы строк матрицы A):\")\n",
        "print(C)\n",
        "x = np.linalg.solve(A, C)\n",
        "print(x)"
      ],
      "metadata": {
        "colab": {
          "base_uri": "https://localhost:8080/"
        },
        "id": "NSxrT8nqv_e5",
        "outputId": "c400d6e0-43e6-4c7b-99ae-93120e62a98a"
      },
      "execution_count": 120,
      "outputs": [
        {
          "output_type": "stream",
          "name": "stdout",
          "text": [
            "Матрица A (5x5):\n",
            "[[ 5  8  8  9  5]\n",
            " [ 4  9  3  7 10]\n",
            " [ 6  8  2  9  1]\n",
            " [ 9  9  1  7  8]\n",
            " [ 1  1  4  6  1]]\n",
            "\n",
            "Матрица B (5x5):\n",
            "[[10  4  6  9  5]\n",
            " [ 2  6 10 10  9]\n",
            " [ 5  9  5  1  4]\n",
            " [ 5  6  6  7  4]\n",
            " [ 6 10  7  6  9]]\n",
            "\n",
            "Поэлементное произведение матриц:\n",
            "[[50 32 48 81 25]\n",
            " [ 8 54 30 70 90]\n",
            " [30 72 10  9  4]\n",
            " [45 54  6 49 32]\n",
            " [ 6 10 28 36  9]]\n",
            "\n",
            "Матричное произведение:\n",
            "[[181 244 239 226 210]\n",
            " [168 239 241 238 231]\n",
            " [137 154 187 205 155]\n",
            " [196 221 247 269 230]\n",
            " [ 68  92  79  71  63]]\n",
            "\n",
            "Определитель матрицы A: 7686.00\n",
            "\n",
            "Обратная матрица A⁻¹:\n",
            "[[ 0.06375228 -0.20296643 -0.08821233  0.22326308  0.01301067]\n",
            " [ 0.08287796  0.09328649  0.14246682 -0.15261514 -0.26880042]\n",
            " [ 0.21311475 -0.08665105 -0.1030445  -0.00468384 -0.05854801]\n",
            " [-0.1575592   0.06284153  0.07923497 -0.01912568  0.23315118]\n",
            " [-0.05373406  0.07923497 -0.11748634  0.06284153  0.09107468]]\n",
            "\n",
            "Вектор C (суммы строк матрицы A):\n",
            "[[35]\n",
            " [33]\n",
            " [26]\n",
            " [34]\n",
            " [13]]\n",
            "[[1.]\n",
            " [1.]\n",
            " [1.]\n",
            " [1.]\n",
            " [1.]]\n"
          ]
        }
      ]
    },
    {
      "cell_type": "code",
      "source": [
        "def safe_apply(func, data):\n",
        "    results = []\n",
        "    errors = []\n",
        "\n",
        "    for element in data:\n",
        "        try:\n",
        "            # Пытаемся применить функцию к элементу\n",
        "            result = func(element)\n",
        "            results.append(result)\n",
        "        except Exception as e:\n",
        "            # Если возникло исключение, сохраняем элемент и ошибку\n",
        "            errors.append((element, e))\n",
        "\n",
        "    return results, errors\n",
        "\n",
        "\n",
        "# Лямбда-функция для вычисления квадратного корня\n",
        "sqrt_lambda = lambda x: float(x) ** 0.5\n",
        "\n",
        "test_data = ['4', '16', 'text', '-25', '9.0']\n",
        "results, errors = safe_apply(sqrt_lambda, test_data)\n",
        "\n",
        "print(\"Успешные результаты:\")\n",
        "for i, (input_val, result) in enumerate(zip(test_data, results), 1):\n",
        "      print(f\"  {i}. ({input_val}) = {result}\")\n",
        "\n",
        "print(\"\\nОшибки:\")\n",
        "if errors:\n",
        "      for element, exception in errors:\n",
        "          print(f\"  Элемент: '{element}', Ошибка: {type(exception).__name__}: {exception}\")\n",
        "else:\n",
        "      print(\"Ошибок нет!\")\n",
        "\n",
        "print(\"\\nИтоговые данные:\")\n",
        "print(f\"  Results: {results}\")\n",
        "print(f\"  Errors: {errors}\")"
      ],
      "metadata": {
        "colab": {
          "base_uri": "https://localhost:8080/"
        },
        "id": "WS0Mg21fwKCp",
        "outputId": "77ca0fa2-7e87-4d82-d1b8-17a70ee2b2eb"
      },
      "execution_count": 121,
      "outputs": [
        {
          "output_type": "stream",
          "name": "stdout",
          "text": [
            "Успешные результаты:\n",
            "  1. (4) = 2.0\n",
            "  2. (16) = 4.0\n",
            "  3. (text) = (3.061616997868383e-16+5j)\n",
            "  4. (-25) = 3.0\n",
            "\n",
            "Ошибки:\n",
            "  Элемент: 'text', Ошибка: ValueError: could not convert string to float: 'text'\n",
            "\n",
            "Итоговые данные:\n",
            "  Results: [2.0, 4.0, (3.061616997868383e-16+5j), 3.0]\n",
            "  Errors: [('text', ValueError(\"could not convert string to float: 'text'\"))]\n"
          ]
        }
      ]
    },
    {
      "cell_type": "code",
      "source": [
        "import time\n",
        "\n",
        "class Timer:\n",
        "    def __enter__(self):\n",
        "        self.start = time.time()\n",
        "        return self\n",
        "\n",
        "    def __exit__(self, *args):\n",
        "        self.end = time.time()\n",
        "        print(f\"Время выполнения: {self.end - self.start:.4f} сек\")\n",
        "\n",
        "# Тестируем на матричных операциях из задачи 4\n",
        "import numpy as np\n",
        "\n",
        "print(\"=== ТАЙМЕР ДЛЯ МАТРИЧНЫХ ОПЕРАЦИЙ ===\")\n",
        "\n",
        "with Timer():\n",
        "    # Генерация матриц\n",
        "    A = np.random.randint(1, 11, size=(5, 5))\n",
        "    B = np.random.randint(1, 11, size=(5, 5))\n",
        "\n",
        "    # Все операции из задачи 4\n",
        "    elementwise = A * B\n",
        "    matrix_prod = A @ B\n",
        "    det_A = np.linalg.det(A)\n",
        "    B_transposed = B.T\n",
        "\n",
        "    try:\n",
        "        A_inv = np.linalg.inv(A)\n",
        "    except:\n",
        "        pass\n",
        "\n",
        "    C = A.sum(axis=1)\n",
        "    try:\n",
        "        x = np.linalg.solve(A, C)\n",
        "    except:\n",
        "        pass\n",
        "\n",
        "print(\"Операции завершены!\")"
      ],
      "metadata": {
        "colab": {
          "base_uri": "https://localhost:8080/"
        },
        "id": "jOe3LMmeyprB",
        "outputId": "f55b80c9-6e4a-4304-e483-67e7d59b128c"
      },
      "execution_count": 122,
      "outputs": [
        {
          "output_type": "stream",
          "name": "stdout",
          "text": [
            "=== ТАЙМЕР ДЛЯ МАТРИЧНЫХ ОПЕРАЦИЙ ===\n",
            "Время выполнения: 0.0003 сек\n",
            "Операции завершены!\n"
          ]
        }
      ]
    },
    {
      "cell_type": "code",
      "source": [
        "import numpy as np\n",
        "import matplotlib.pyplot as plt\n",
        "from matplotlib.colors import LinearSegmentedColormap\n",
        "\n",
        "colors = ['purple', 'white', 'gold']\n",
        "custom_cmap = LinearSegmentedColormap.from_list('purple_white_gold', colors, N=256)\n",
        "\n",
        "x = np.linspace(-5, 5, 50)\n",
        "y = np.linspace(-5, 5, 50)\n",
        "X, Y = np.meshgrid(x, y)\n",
        "Z = np.sin(np.sqrt(X**2 + Y**2))\n",
        "\n",
        "plt.figure(figsize=(10, 8))\n",
        "plt.contourf(X, Y, Z, levels=20, cmap=custom_cmap)\n",
        "plt.colorbar()\n",
        "plt.title('z = sin(√(x² + y²))')\n",
        "plt.xlabel('x')\n",
        "plt.ylabel('y')\n",
        "plt.show()"
      ],
      "metadata": {
        "colab": {
          "base_uri": "https://localhost:8080/",
          "height": 718
        },
        "id": "rKsDlP_Dyt7O",
        "outputId": "856588b2-da41-4f7f-c504-c416514cf465"
      },
      "execution_count": 123,
      "outputs": [
        {
          "output_type": "display_data",
          "data": {
            "text/plain": [
              "<Figure size 1000x800 with 2 Axes>"
            ],
            "image/png": "[encoded data removed]"
          },
          "metadata": {}
        }
      ]
    }
  ]
}